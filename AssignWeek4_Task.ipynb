{
 "cells": [
  {
   "cell_type": "code",
   "execution_count": 1,
   "id": "db70a580-5ca4-40c3-97a8-d7acb54895f7",
   "metadata": {},
   "outputs": [
    {
     "data": {
      "text/plain": [
       "'Q1, Create a vehicle class with an init method having instance variables as name_of_vehicle, max_speed and average_of_vehicle.'"
      ]
     },
     "execution_count": 1,
     "metadata": {},
     "output_type": "execute_result"
    }
   ],
   "source": [
    "\"\"\"Q1, Create a vehicle class with an init method having instance variables as name_of_vehicle, max_speed and average_of_vehicle.\"\"\""
   ]
  },
  {
   "cell_type": "code",
   "execution_count": 35,
   "id": "8a22cd62-bcb2-4747-8be0-972fbda90610",
   "metadata": {},
   "outputs": [
    {
     "data": {
      "text/plain": [
       "('safari', 200, 15)"
      ]
     },
     "execution_count": 35,
     "metadata": {},
     "output_type": "execute_result"
    }
   ],
   "source": [
    "# Analysis-\n",
    "class vehicle:\n",
    "    def __init__(self, name_of_vehicle, max_speed, average_of_vehicle):\n",
    "        self.name_of_vehicle= name_of_vehicle\n",
    "        self.max_speed= max_speed\n",
    "        self.average_of_vehicle= average_of_vehicle\n",
    "    def return_vehicle_class(self):\n",
    "        return self.name_of_vehicle, self.max_speed, self.average_of_vehicle\n",
    "vehicle_class= vehicle(\"safari\", 200, 15)\n",
    "vehicle_class.return_vehicle_class()\n",
    "\n"
   ]
  },
  {
   "cell_type": "code",
   "execution_count": 1,
   "id": "cb8ddd31-da94-4fd6-919d-646844bdefd0",
   "metadata": {},
   "outputs": [
    {
     "data": {
      "text/plain": [
       "'Q2. Create a child class car from the vehicle class created in Que 1, which will inherit the vehicle class.\\nCreate a method named seating_capacity which takes capacity as an argument and returns the name of\\nthe vehicle and its seating capacity.'"
      ]
     },
     "execution_count": 1,
     "metadata": {},
     "output_type": "execute_result"
    }
   ],
   "source": [
    "\"\"\"Q2. Create a child class car from the vehicle class created in Que 1, which will inherit the vehicle class.\n",
    "Create a method named seating_capacity which takes capacity as an argument and returns the name of\n",
    "the vehicle and its seating capacity.\"\"\""
   ]
  },
  {
   "cell_type": "code",
   "execution_count": 11,
   "id": "ad262329-2755-43e3-a604-23b8f9207728",
   "metadata": {},
   "outputs": [],
   "source": [
    "# Analysis-\n",
    "class vehicle:\n",
    "    def __init__(self, name_of_vehicle, max_speed, average_of_vehicle):\n",
    "        self.name_of_vehicle= name_of_vehicle\n",
    "        self.max_speed= max_speed\n",
    "        self.average_of_vehicle= average_of_vehicle\n",
    "        \n",
    "    def return_vehicle_class(self):\n",
    "        return self.name_of_vehicle, self.max_speed, self.average_of_vehicle\n",
    "    \n",
    "class child_car(vehicle):\n",
    "    def seating_capacity(self, capacity):\n",
    "        return f\"{self.name_of_vehicle}, Seating Capacity: {capacity}\"\n",
    "    "
   ]
  },
  {
   "cell_type": "code",
   "execution_count": 15,
   "id": "96c68b30-5b72-429f-b125-e1e45373c84b",
   "metadata": {},
   "outputs": [],
   "source": [
    "car= child_car(\"Safari\", 200, 15)"
   ]
  },
  {
   "cell_type": "code",
   "execution_count": 16,
   "id": "ea774d81-5f82-4aaa-8548-ff31b80da72d",
   "metadata": {},
   "outputs": [
    {
     "data": {
      "text/plain": [
       "'Safari, Seating Capacity: 7'"
      ]
     },
     "execution_count": 16,
     "metadata": {},
     "output_type": "execute_result"
    }
   ],
   "source": [
    "car.seating_capacity(7)"
   ]
  },
  {
   "cell_type": "code",
   "execution_count": 17,
   "id": "e7c5d5ae-9a3a-42f2-9c01-2b95c5eb510b",
   "metadata": {},
   "outputs": [
    {
     "data": {
      "text/plain": [
       "'Q3. What is multiple inheritance? Write a python code to demonstrate multiple inheritance.'"
      ]
     },
     "execution_count": 17,
     "metadata": {},
     "output_type": "execute_result"
    }
   ],
   "source": [
    "\"\"\"Q3. What is multiple inheritance? Write a python code to demonstrate multiple inheritance.\"\"\""
   ]
  },
  {
   "cell_type": "code",
   "execution_count": 19,
   "id": "c6ed3b4d-96da-4d11-b59e-b476dfc4a464",
   "metadata": {},
   "outputs": [
    {
     "data": {
      "text/plain": [
       "'Answer- Multiple inheritance is a feature in object-oriented programming languages that allows a class to inherit from more than one base class. In multiple inheritance, a subclass can inherit attributes and methods from multiple parent classes.'"
      ]
     },
     "execution_count": 19,
     "metadata": {},
     "output_type": "execute_result"
    }
   ],
   "source": [
    "\"\"\"Answer- Multiple inheritance is a feature in object-oriented programming languages that allows a class to inherit from more than one base class. In multiple inheritance, a subclass can inherit attributes and methods from multiple parent classes.\"\"\""
   ]
  },
  {
   "cell_type": "code",
   "execution_count": 20,
   "id": "38d6fb58-b498-431f-813d-5b46a8976f0a",
   "metadata": {},
   "outputs": [],
   "source": [
    "class car:\n",
    "        \n",
    "    def car_details(self):\n",
    "        return self.name\n",
    "\n",
    "class bike:\n",
    "    def two_wheeler(self):\n",
    "        return \"Honda\"\n",
    "    \n",
    "class vehicle(car, bike):\n",
    "    pass\n",
    "        "
   ]
  },
  {
   "cell_type": "code",
   "execution_count": 27,
   "id": "31c8ca29-324f-46cf-933c-ca2e82b5d879",
   "metadata": {},
   "outputs": [],
   "source": [
    "Vehicle_class=vehicle('name')"
   ]
  },
  {
   "cell_type": "code",
   "execution_count": 30,
   "id": "3623e4c1-5478-4383-b411-678b9b1cf0d2",
   "metadata": {},
   "outputs": [
    {
     "data": {
      "text/plain": [
       "'name'"
      ]
     },
     "execution_count": 30,
     "metadata": {},
     "output_type": "execute_result"
    }
   ],
   "source": [
    "Vehicle_class.car_details()"
   ]
  },
  {
   "cell_type": "code",
   "execution_count": 31,
   "id": "fee9a25d-03f3-4b30-a85d-081ebf8d21c0",
   "metadata": {},
   "outputs": [
    {
     "data": {
      "text/plain": [
       "'Honda'"
      ]
     },
     "execution_count": 31,
     "metadata": {},
     "output_type": "execute_result"
    }
   ],
   "source": [
    "Vehicle_class.two_wheeler()"
   ]
  },
  {
   "cell_type": "code",
   "execution_count": 32,
   "id": "564ccc39-83a1-4429-804a-5544f163f80a",
   "metadata": {},
   "outputs": [
    {
     "data": {
      "text/plain": [
       "'Q4. What are getter and setter in python? Create a class and create a getter and a setter method in this class.'"
      ]
     },
     "execution_count": 32,
     "metadata": {},
     "output_type": "execute_result"
    }
   ],
   "source": [
    "\"\"\"Q4. What are getter and setter in python? Create a class and create a getter and a setter method in this class.\"\"\""
   ]
  },
  {
   "cell_type": "code",
   "execution_count": 33,
   "id": "92113017-d065-45aa-a803-bd615de6604b",
   "metadata": {},
   "outputs": [
    {
     "data": {
      "text/plain": [
       "'Getters and setters are methods used to retrieve and modify the values of instance variables in a class. They provide a way to control access to the class attributes and allow for additional logic or validation to be applied when getting or setting a value.'"
      ]
     },
     "execution_count": 33,
     "metadata": {},
     "output_type": "execute_result"
    }
   ],
   "source": [
    "\"\"\"Getters and setters are methods used to retrieve and modify the values of instance variables in a class. They provide a way to control access to the class attributes and allow for additional logic or validation to be applied when getting or setting a value.\"\"\"\n",
    "\n"
   ]
  },
  {
   "cell_type": "code",
   "execution_count": 50,
   "id": "3c562e38-2830-41f2-bc3a-8451fe00b5d9",
   "metadata": {},
   "outputs": [
    {
     "data": {
      "text/plain": [
       "'safari'"
      ]
     },
     "execution_count": 50,
     "metadata": {},
     "output_type": "execute_result"
    }
   ],
   "source": [
    "# Example-\n",
    "class car:\n",
    "    def __init__(self, name):\n",
    "        self._name = name\n",
    "\n",
    "    def get_name(self):\n",
    "        return self._name\n",
    "\n",
    "    def set_name(self, new_name):\n",
    "        self._name = new_name\n",
    "car1=car('safari')\n",
    "car1.get_name()"
   ]
  },
  {
   "cell_type": "code",
   "execution_count": 53,
   "id": "28c815ff-805e-4ca4-b1a5-c09e79d2b680",
   "metadata": {},
   "outputs": [],
   "source": [
    "car1.set_name('toyota')"
   ]
  },
  {
   "cell_type": "code",
   "execution_count": 54,
   "id": "b4cb986a-0eaf-4698-baa2-8d0db64472c5",
   "metadata": {},
   "outputs": [
    {
     "data": {
      "text/plain": [
       "'toyota'"
      ]
     },
     "execution_count": 54,
     "metadata": {},
     "output_type": "execute_result"
    }
   ],
   "source": [
    "car1.get_name()"
   ]
  },
  {
   "cell_type": "code",
   "execution_count": 55,
   "id": "6833adbe-bbe6-454f-9620-97c2795aa000",
   "metadata": {},
   "outputs": [
    {
     "data": {
      "text/plain": [
       "'Q5.What is method overriding in python? Write a python code to demonstrate method overriding.'"
      ]
     },
     "execution_count": 55,
     "metadata": {},
     "output_type": "execute_result"
    }
   ],
   "source": [
    "\"\"\"Q5.What is method overriding in python? Write a python code to demonstrate method overriding.\"\"\""
   ]
  },
  {
   "cell_type": "code",
   "execution_count": 57,
   "id": "7b3035fe-d537-406c-b63c-ef52a3ecf64c",
   "metadata": {},
   "outputs": [
    {
     "data": {
      "text/plain": [
       "'Answer- Method overriding is a concept in object-oriented programming where a subclass provides its own implementation of a method that is already defined in its superclass. This allows the subclass to modify or extend the behavior of the inherited method.'"
      ]
     },
     "execution_count": 57,
     "metadata": {},
     "output_type": "execute_result"
    }
   ],
   "source": [
    "\"\"\"Answer- Method overriding is a concept in object-oriented programming where a subclass provides its own implementation of a method that is already defined in its superclass. This allows the subclass to modify or extend the behavior of the inherited method.\"\"\""
   ]
  },
  {
   "cell_type": "code",
   "execution_count": null,
   "id": "486429bc-2398-4b1b-9b71-b8e023787986",
   "metadata": {},
   "outputs": [],
   "source": [
    "# Code-\n",
    "class vehicle:\n",
    "    def brand_name(self):\n",
    "        return \"brand name\"\n",
    "    \n",
    "class car(vehicle):\n",
    "    def brand_name(self):\n",
    "        return \"car brand name\"\n",
    "    \n",
    "class bike(vehicle):\n",
    "    def brand_name(self):\n",
    "        return \"bike brand name\"\n",
    "    \n",
    "vehicle=vehicle()\n",
    "car=car()\n",
    "bike=bike()\n",
    "\n",
    "    "
   ]
  }
 ],
 "metadata": {
  "kernelspec": {
   "display_name": "Python 3 (ipykernel)",
   "language": "python",
   "name": "python3"
  },
  "language_info": {
   "codemirror_mode": {
    "name": "ipython",
    "version": 3
   },
   "file_extension": ".py",
   "mimetype": "text/x-python",
   "name": "python",
   "nbconvert_exporter": "python",
   "pygments_lexer": "ipython3",
   "version": "3.10.8"
  }
 },
 "nbformat": 4,
 "nbformat_minor": 5
}
