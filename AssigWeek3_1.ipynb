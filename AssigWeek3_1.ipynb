{
 "cells": [
  {
   "cell_type": "code",
   "execution_count": 1,
   "id": "1453bf1e-05de-49ee-9251-dc5019c5a81c",
   "metadata": {},
   "outputs": [
    {
     "data": {
      "text/plain": [
       "'Q1. Which keyword is used to create a function? Create a function to return a list of odd numbers in the\\nrange of 1 to 25.'"
      ]
     },
     "execution_count": 1,
     "metadata": {},
     "output_type": "execute_result"
    }
   ],
   "source": [
    "\"\"\"Q1. Which keyword is used to create a function? Create a function to return a list of odd numbers in the\n",
    "range of 1 to 25.\"\"\""
   ]
  },
  {
   "cell_type": "code",
   "execution_count": 2,
   "id": "6ea59ba6-2544-4149-9d79-98cb024cbcd1",
   "metadata": {},
   "outputs": [],
   "source": [
    "# Solution- def"
   ]
  },
  {
   "cell_type": "code",
   "execution_count": 6,
   "id": "578463c7-0fdb-451c-972a-19f462e938a5",
   "metadata": {},
   "outputs": [],
   "source": [
    "def odd_no_1to25():\n",
    "    odd_no_1to25= []\n",
    "    for num in range(1,26):\n",
    "        if num%2!=0:\n",
    "            odd_no_1to25.append(num)\n",
    "    return(odd_no_1to25)\n",
    "        \n",
    "    \n",
    "    "
   ]
  },
  {
   "cell_type": "code",
   "execution_count": 8,
   "id": "3c028879-d596-4df6-83fd-b80deff38126",
   "metadata": {},
   "outputs": [
    {
     "data": {
      "text/plain": [
       "[1, 3, 5, 7, 9, 11, 13, 15, 17, 19, 21, 23, 25]"
      ]
     },
     "execution_count": 8,
     "metadata": {},
     "output_type": "execute_result"
    }
   ],
   "source": [
    "odd_no_1to25()"
   ]
  },
  {
   "cell_type": "code",
   "execution_count": 9,
   "id": "dca895ad-2011-4824-b8e2-214d04f2e1d2",
   "metadata": {},
   "outputs": [
    {
     "data": {
      "text/plain": [
       "'Q2. Why *args and **kwargs is used in some functions? Create a function each for *args and **kwargs\\nto demonstrate their use.'"
      ]
     },
     "execution_count": 9,
     "metadata": {},
     "output_type": "execute_result"
    }
   ],
   "source": [
    "\"\"\"Q2. Why *args and **kwargs is used in some functions? Create a function each for *args and **kwargs\n",
    "to demonstrate their use.\"\"\""
   ]
  },
  {
   "cell_type": "code",
   "execution_count": 1,
   "id": "4c580431-fd10-4bd4-afbc-f6c953025327",
   "metadata": {},
   "outputs": [],
   "source": [
    "# Solution- They are used to create functions that can accept any number of positional arguments (*args) and keyword arguments (**kwargs), providing flexibility and versatility.\n",
    "def test1(*args):\n",
    "    return args\n",
    "    "
   ]
  },
  {
   "cell_type": "code",
   "execution_count": 2,
   "id": "ab3ca9d2-1871-4121-850c-e2ae9f70b1d8",
   "metadata": {},
   "outputs": [
    {
     "data": {
      "text/plain": [
       "()"
      ]
     },
     "execution_count": 2,
     "metadata": {},
     "output_type": "execute_result"
    }
   ],
   "source": [
    "test1()"
   ]
  },
  {
   "cell_type": "code",
   "execution_count": 4,
   "id": "ed095988-8a5e-47eb-8772-3dcbb8eee556",
   "metadata": {},
   "outputs": [
    {
     "data": {
      "text/plain": [
       "tuple"
      ]
     },
     "execution_count": 4,
     "metadata": {},
     "output_type": "execute_result"
    }
   ],
   "source": [
    "type(test1())"
   ]
  },
  {
   "cell_type": "code",
   "execution_count": 5,
   "id": "15cb7c88-aefb-4eee-b16c-8976c4f038ff",
   "metadata": {},
   "outputs": [
    {
     "data": {
      "text/plain": [
       "(1, 2, 3, 4, 'apple', 4.0, True)"
      ]
     },
     "execution_count": 5,
     "metadata": {},
     "output_type": "execute_result"
    }
   ],
   "source": [
    "test1(1,2,3,4,'apple',4.0,True)"
   ]
  },
  {
   "cell_type": "code",
   "execution_count": 6,
   "id": "accfd95d-b573-470c-9e8d-8747a50a1fb5",
   "metadata": {},
   "outputs": [],
   "source": [
    "def test2(**kwargs):\n",
    "    return kwargs\n"
   ]
  },
  {
   "cell_type": "code",
   "execution_count": 7,
   "id": "3b68de3e-6f87-452d-a075-f5f104189336",
   "metadata": {},
   "outputs": [
    {
     "data": {
      "text/plain": [
       "{}"
      ]
     },
     "execution_count": 7,
     "metadata": {},
     "output_type": "execute_result"
    }
   ],
   "source": [
    "test2()"
   ]
  },
  {
   "cell_type": "code",
   "execution_count": 8,
   "id": "0f181c3e-c69c-4d0b-beca-be9bd83345cc",
   "metadata": {},
   "outputs": [
    {
     "data": {
      "text/plain": [
       "dict"
      ]
     },
     "execution_count": 8,
     "metadata": {},
     "output_type": "execute_result"
    }
   ],
   "source": [
    "type(test2())"
   ]
  },
  {
   "cell_type": "code",
   "execution_count": 11,
   "id": "fade4851-0cce-4991-a457-912e1538a844",
   "metadata": {},
   "outputs": [
    {
     "data": {
      "text/plain": [
       "{'a': [1, 2, 3], 'b': 'apple', 'c': 2.0, 'd': 4}"
      ]
     },
     "execution_count": 11,
     "metadata": {},
     "output_type": "execute_result"
    }
   ],
   "source": [
    "test2(a=[1,2,3], b='apple', c=2.0, d=4)"
   ]
  },
  {
   "cell_type": "code",
   "execution_count": 12,
   "id": "981f6307-b5fd-4356-849d-70574f767540",
   "metadata": {},
   "outputs": [
    {
     "data": {
      "text/plain": [
       "'Q3. What is an iterator in python? Name the method used to initialise the iterator object and the method\\nused for iteration. Use these methods to print the first five elements of the given list [2, 4, 6, 8, 10, 12, 14,\\n16, 18, 20].'"
      ]
     },
     "execution_count": 12,
     "metadata": {},
     "output_type": "execute_result"
    }
   ],
   "source": [
    "\"\"\"Q3. What is an iterator in python? Name the method used to initialise the iterator object and the method\n",
    "used for iteration. Use these methods to print the first five elements of the given list [2, 4, 6, 8, 10, 12, 14,\n",
    "16, 18, 20].\"\"\""
   ]
  },
  {
   "cell_type": "code",
   "execution_count": 19,
   "id": "62772bb9-27b7-4619-ac1f-75d93e10e7c4",
   "metadata": {},
   "outputs": [
    {
     "data": {
      "text/plain": [
       "'Solution-An iterator is an object that can be iterated upon, meaning that you can traverse through all the values.\\n method used to initialise the iterator object and the method used for iteration  are iter() and next().\\n'"
      ]
     },
     "execution_count": 19,
     "metadata": {},
     "output_type": "execute_result"
    }
   ],
   "source": [
    "\"\"\"Solution-An iterator is an object that can be iterated upon, meaning that you can traverse through all the values.\n",
    " method used to initialise the iterator object and the method used for iteration  are iter() and next().\n",
    "\"\"\""
   ]
  },
  {
   "cell_type": "code",
   "execution_count": 23,
   "id": "4be2cdd8-ae19-4980-8dd0-378849b250c2",
   "metadata": {},
   "outputs": [
    {
     "name": "stdout",
     "output_type": "stream",
     "text": [
      "2\n",
      "4\n",
      "6\n",
      "8\n",
      "10\n"
     ]
    }
   ],
   "source": [
    "test1=[2, 4, 6, 8, 10, 12, 14, 16, 18, 20]\n",
    "l= iter(test1)\n",
    "for i in range(5):\n",
    "    first_five_element=next(l)\n",
    "    print(first_five_element)"
   ]
  },
  {
   "cell_type": "code",
   "execution_count": 25,
   "id": "81b8fac3-31ab-4a70-9d29-95795e3ddbe5",
   "metadata": {},
   "outputs": [
    {
     "data": {
      "text/plain": [
       "'Q4. What is a generator function in python? Why yield keyword is used? Give an example of a generator function.'"
      ]
     },
     "execution_count": 25,
     "metadata": {},
     "output_type": "execute_result"
    }
   ],
   "source": [
    "\"\"\"Q4. What is a generator function in python? Why yield keyword is used? Give an example of a generator function.\"\"\""
   ]
  },
  {
   "cell_type": "code",
   "execution_count": 26,
   "id": "bf73a141-4baa-4e31-862a-032f1afdcc12",
   "metadata": {},
   "outputs": [
    {
     "data": {
      "text/plain": [
       "'Solutions-In Python, a generator is a function that returns an iterator that produces a sequence of values when iterated over. The yield keyword is used in generator functions to define points at which the function should pause its execution and yield a value to the caller'"
      ]
     },
     "execution_count": 26,
     "metadata": {},
     "output_type": "execute_result"
    }
   ],
   "source": [
    "\"\"\"Solutions-In Python, a generator is a function that returns an iterator that produces a sequence of values when iterated over. The yield keyword is used in generator functions to define points at which the function should pause its execution and yield a value to the caller\"\"\""
   ]
  },
  {
   "cell_type": "code",
   "execution_count": 17,
   "id": "f8f6fe56-8741-4492-b418-1de78cc9708c",
   "metadata": {},
   "outputs": [],
   "source": [
    "# Example-\n",
    "def test_fib(n):\n",
    "    a,b = 0, 10\n",
    "    for i in range(n):\n",
    "        yield(a)\n",
    "        a, b = b, a+b"
   ]
  },
  {
   "cell_type": "code",
   "execution_count": 19,
   "id": "805566e7-54f5-480d-ab3c-c74864ab58b2",
   "metadata": {},
   "outputs": [
    {
     "name": "stdout",
     "output_type": "stream",
     "text": [
      "0\n",
      "10\n",
      "10\n",
      "20\n",
      "30\n",
      "50\n",
      "80\n",
      "130\n",
      "210\n",
      "340\n"
     ]
    }
   ],
   "source": [
    "for i in test_fib(10):\n",
    "    print(i)"
   ]
  },
  {
   "cell_type": "code",
   "execution_count": 20,
   "id": "6a0ec452-87e9-4639-86a9-e451ab59e6ce",
   "metadata": {},
   "outputs": [
    {
     "data": {
      "text/plain": [
       "'Q5. Create a generator function for prime numbers less than 1000. Use the next() method to print the first 20 prime numbers.'"
      ]
     },
     "execution_count": 20,
     "metadata": {},
     "output_type": "execute_result"
    }
   ],
   "source": [
    "\"\"\"Q5. Create a generator function for prime numbers less than 1000. Use the next() method to print the first 20 prime numbers.\"\"\""
   ]
  },
  {
   "cell_type": "code",
   "execution_count": 3,
   "id": "8b743424-7458-456e-be87-e9bc65c74639",
   "metadata": {},
   "outputs": [
    {
     "name": "stdout",
     "output_type": "stream",
     "text": [
      "2\n",
      "3\n",
      "5\n",
      "7\n",
      "11\n",
      "13\n",
      "17\n",
      "19\n",
      "23\n",
      "29\n",
      "31\n",
      "37\n",
      "41\n",
      "43\n",
      "47\n",
      "53\n",
      "59\n",
      "61\n",
      "67\n",
      "71\n"
     ]
    }
   ],
   "source": [
    "def prime_less_than_1000():\n",
    "    num = 2\n",
    "    while True:\n",
    "        if all(num % i != 0 for i in range(2, int(num ** 0.5) + 1)):\n",
    "            yield num\n",
    "        num += 1\n",
    "        \n",
    "_prime = prime_less_than_1000()\n",
    "for _ in range(20):\n",
    "    prime = next(_prime)\n",
    "    print(prime)"
   ]
  },
  {
   "cell_type": "code",
   "execution_count": 2,
   "id": "48c62aa4-6dd0-49f8-87ca-174e936e1e50",
   "metadata": {},
   "outputs": [
    {
     "data": {
      "text/plain": [
       "'Q6. Write a python program to print the first 10 Fibonacci numbers using a while loop.'"
      ]
     },
     "execution_count": 2,
     "metadata": {},
     "output_type": "execute_result"
    }
   ],
   "source": [
    "\"\"\"Q6. Write a python program to print the first 10 Fibonacci numbers using a while loop.\"\"\""
   ]
  },
  {
   "cell_type": "code",
   "execution_count": 9,
   "id": "ffb76bf1-a132-4581-a02f-ea4cb368fd4a",
   "metadata": {},
   "outputs": [],
   "source": [
    "# Solution-\n",
    "def first10_fib(n):\n",
    "    a,b = 0, 10\n",
    "    for i in range(n):\n",
    "        yield(a)\n",
    "        a, b = b, a+b"
   ]
  },
  {
   "cell_type": "code",
   "execution_count": 10,
   "id": "46676445-ad64-4726-9689-8f3f99a40831",
   "metadata": {},
   "outputs": [
    {
     "name": "stdout",
     "output_type": "stream",
     "text": [
      "0\n",
      "10\n",
      "10\n",
      "20\n",
      "30\n",
      "50\n",
      "80\n",
      "130\n",
      "210\n",
      "340\n"
     ]
    }
   ],
   "source": [
    " for i in first10_fib(10):\n",
    "        print(i)"
   ]
  },
  {
   "cell_type": "code",
   "execution_count": 12,
   "id": "7d8b535b-dbc0-448c-9cdd-446d0930c844",
   "metadata": {},
   "outputs": [
    {
     "data": {
      "text/plain": [
       "\"Q7. Write a List Comprehension to iterate through the given string: ‘pwskills’. Expected output: ['p', 'w', 's', 'k', 'i', 'l', 'l', 's']\""
      ]
     },
     "execution_count": 12,
     "metadata": {},
     "output_type": "execute_result"
    }
   ],
   "source": [
    "\"\"\"Q7. Write a List Comprehension to iterate through the given string: ‘pwskills’. Expected output: ['p', 'w', 's', 'k', 'i', 'l', 'l', 's']\"\"\""
   ]
  },
  {
   "cell_type": "code",
   "execution_count": 31,
   "id": "02518c49-a2a8-4c66-a86b-66d316064e00",
   "metadata": {},
   "outputs": [
    {
     "name": "stdout",
     "output_type": "stream",
     "text": [
      "['p', 'w', 's', 'k', 'i', 'l', 'l', 's']\n"
     ]
    }
   ],
   "source": [
    "# Solution-\n",
    "s=\"pwskills\"\n",
    "output=[char for char in s]\n",
    "print(output)"
   ]
  },
  {
   "cell_type": "code",
   "execution_count": 32,
   "id": "eea4c0f3-b81c-4ee3-a396-26b024882db1",
   "metadata": {},
   "outputs": [
    {
     "data": {
      "text/plain": [
       "'Q8. Write a python program to check whether a given number is Palindrome or not using a while loop.'"
      ]
     },
     "execution_count": 32,
     "metadata": {},
     "output_type": "execute_result"
    }
   ],
   "source": [
    "\"\"\"Q8. Write a python program to check whether a given number is Palindrome or not using a while loop.\"\"\""
   ]
  },
  {
   "cell_type": "code",
   "execution_count": 3,
   "id": "b50c11ae-326c-4cfd-b325-13ce1c5cf32b",
   "metadata": {},
   "outputs": [
    {
     "name": "stdin",
     "output_type": "stream",
     "text": [
      "Enter a number:  121\n"
     ]
    },
    {
     "name": "stdout",
     "output_type": "stream",
     "text": [
      "121 is a palindrome\n"
     ]
    }
   ],
   "source": [
    "# Solution-\n",
    "def no_is_palindrome(number):\n",
    "    x = number\n",
    "    rev = 0\n",
    "\n",
    "    while number > 0:\n",
    "        rev = (rev * 10) + number % 10\n",
    "        number //= 10\n",
    "\n",
    "    return x == rev\n",
    "\n",
    "i = int(input(\"Enter a number: \"))\n",
    "\n",
    "if no_is_palindrome(i):\n",
    "    print(i, \"is a palindrome\")\n",
    "else:\n",
    "    print(i, \"is not a palindrome\")\n"
   ]
  },
  {
   "cell_type": "code",
   "execution_count": 5,
   "id": "66aaee74-151c-4a0c-8279-040716fe784e",
   "metadata": {},
   "outputs": [
    {
     "data": {
      "text/plain": [
       "'Write a code to print odd numbers from 1 to 100 using list comprehension.'"
      ]
     },
     "execution_count": 5,
     "metadata": {},
     "output_type": "execute_result"
    }
   ],
   "source": [
    "\"\"\"Write a code to print odd numbers from 1 to 100 using list comprehension.\"\"\""
   ]
  },
  {
   "cell_type": "code",
   "execution_count": 8,
   "id": "76dcb10a-99e4-4678-a559-0d6b04d01557",
   "metadata": {},
   "outputs": [
    {
     "name": "stdout",
     "output_type": "stream",
     "text": [
      "[121]\n",
      "[121]\n",
      "[121]\n",
      "[121]\n",
      "[121]\n",
      "[121]\n",
      "[121]\n",
      "[121]\n",
      "[121]\n",
      "[121]\n",
      "[121]\n",
      "[121]\n",
      "[121]\n",
      "[121]\n",
      "[121]\n",
      "[121]\n",
      "[121]\n",
      "[121]\n",
      "[121]\n",
      "[121]\n",
      "[121]\n",
      "[121]\n",
      "[121]\n",
      "[121]\n",
      "[121]\n",
      "[121]\n",
      "[121]\n",
      "[121]\n",
      "[121]\n",
      "[121]\n",
      "[121]\n",
      "[121]\n",
      "[121]\n",
      "[121]\n",
      "[121]\n",
      "[121]\n",
      "[121]\n",
      "[121]\n",
      "[121]\n",
      "[121]\n",
      "[121]\n",
      "[121]\n",
      "[121]\n",
      "[121]\n",
      "[121]\n",
      "[121]\n",
      "[121]\n",
      "[121]\n",
      "[121]\n",
      "[121]\n"
     ]
    }
   ],
   "source": [
    "# Solution-\n",
    "x= [i]\n",
    "for i in range(1, 100):\n",
    "    if i%2==1:\n",
    "        print(x)\n"
   ]
  },
  {
   "cell_type": "code",
   "execution_count": null,
   "id": "ed8fb910-f8d3-4565-a0e0-ad9a239a9869",
   "metadata": {},
   "outputs": [],
   "source": []
  }
 ],
 "metadata": {
  "kernelspec": {
   "display_name": "Python 3 (ipykernel)",
   "language": "python",
   "name": "python3"
  },
  "language_info": {
   "codemirror_mode": {
    "name": "ipython",
    "version": 3
   },
   "file_extension": ".py",
   "mimetype": "text/x-python",
   "name": "python",
   "nbconvert_exporter": "python",
   "pygments_lexer": "ipython3",
   "version": "3.10.8"
  }
 },
 "nbformat": 4,
 "nbformat_minor": 5
}
