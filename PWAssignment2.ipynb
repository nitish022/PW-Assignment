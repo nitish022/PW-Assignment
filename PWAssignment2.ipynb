{
 "cells": [
  {
   "cell_type": "code",
   "execution_count": 4,
   "id": "db7e49df-032e-46ff-b4b8-8ada51cabaac",
   "metadata": {},
   "outputs": [],
   "source": [
    "#Q1. How do you comment code in Python? What are the different types of comments?\n",
    "#Ans- Using # in starting of code for single line and \"\"\" or ''' at starting and end for multiline comment.Single line multiline.\n"
   ]
  },
  {
   "cell_type": "code",
   "execution_count": 9,
   "id": "40685e99-2add-4acf-a4f7-286e9ed186bc",
   "metadata": {},
   "outputs": [],
   "source": [
    "\"\"\"Q2. What are variables in Python? How do you declare and assign values to variables?\n",
    "Ans- In pythone variables are used to store and manipulate data.\n",
    "Declaration- Assign a value to a variable directly. Example x=10, variable x is declared and assigned a value of 10.\n",
    "Assignment- To assign a value to a variable, use the assignment operator =. The value on the right side of the = is assigned to the variable on the left side.\n",
    "For example: x=5, 5 is assigned to the variable x.\"\"\"\n"
   ]
  },
  {
   "cell_type": "code",
   "execution_count": 10,
   "id": "630c3bca-dca5-461a-9776-6daab954a1df",
   "metadata": {},
   "outputs": [],
   "source": []
  },
  {
   "cell_type": "code",
   "execution_count": 12,
   "id": "be08b68f-cd55-440b-82db-f4a28ff50c60",
   "metadata": {},
   "outputs": [],
   "source": [
    "\"\"\"Q3. How do you convert one data type to another in Python?\n",
    "Solution-\n",
    "We can convert one data type to another using type conversion functions or constructors that are available for each data type.\n",
    "Here are some commonly used methods for data type conversion\n",
    "int()-to convert data type into integer, str()-to convert data type into string, float()-to convert data type into float etc. \n",
    "There are many more \"\"\"\n",
    "x=5 # data type is integer"
   ]
  },
  {
   "cell_type": "code",
   "execution_count": 13,
   "id": "b79c8c1f-d1aa-4489-985c-22ea6b673e58",
   "metadata": {},
   "outputs": [
    {
     "data": {
      "text/plain": [
       "5"
      ]
     },
     "execution_count": 13,
     "metadata": {},
     "output_type": "execute_result"
    }
   ],
   "source": [
    "x"
   ]
  },
  {
   "cell_type": "code",
   "execution_count": 14,
   "id": "248ccd7f-69b1-435c-9368-55391dae0aa9",
   "metadata": {},
   "outputs": [
    {
     "data": {
      "text/plain": [
       "'5'"
      ]
     },
     "execution_count": 14,
     "metadata": {},
     "output_type": "execute_result"
    }
   ],
   "source": [
    "str(x) # change int to string"
   ]
  },
  {
   "cell_type": "code",
   "execution_count": 15,
   "id": "dd08d596-7d48-4763-9dad-e9cc3e0f7ee7",
   "metadata": {},
   "outputs": [
    {
     "data": {
      "text/plain": [
       "5.0"
      ]
     },
     "execution_count": 15,
     "metadata": {},
     "output_type": "execute_result"
    }
   ],
   "source": [
    "float(x) # change str to float"
   ]
  },
  {
   "cell_type": "code",
   "execution_count": 17,
   "id": "22a95448-b1b3-4a5b-bb84-9f9823ef9d5b",
   "metadata": {},
   "outputs": [],
   "source": [
    "\"\"\"\n",
    "Q4. How do you write and execute a Python script from the command line?\n",
    "Solution- \n",
    "1. Open a text editor or an integrated development environment (IDE) to write your Python script. \n",
    "Create a new file and write your Python code in it. Save the file with a .py extension, such as script.py. \n",
    "Make sure to remember the file's location on your computer.\n",
    "2. Open a command prompt or terminal window on your operating system.\n",
    "3. Navigate to the directory where your Python script is saved. Use the cd command to change directories. \n",
    "For example, if your script is saved in the Documents folder, you would use the following command (on Windows): cd Documents\n",
    "4. Once you are in the correct directory, you can execute the Python script by typing python followed by the script's filename. \n",
    "For example: python script.py, This command tells the Python interpreter to run the script using the Python interpreter installed on your system.\n",
    "5. Press the Enter key to execute the command. The Python script will be executed, and the output (if any) will be displayed in the command prompt or terminal window.\n",
    "\"\"\"\n"
   ]
  },
  {
   "cell_type": "code",
   "execution_count": 18,
   "id": "1ee734f6-1e0d-4d64-9408-4e415dfb4488",
   "metadata": {},
   "outputs": [],
   "source": [
    "# Q5. Given a list my_list = [1, 2, 3, 4, 5], write the code to slice the list and obtain the sub-list [2, 3].\n",
    "#Solution\n",
    "my_list = [1, 2, 3, 4, 5]"
   ]
  },
  {
   "cell_type": "code",
   "execution_count": 24,
   "id": "0208a2df-1d47-4040-8cba-f3e3cbeecd91",
   "metadata": {},
   "outputs": [],
   "source": [
    "sub_list= my_list[1:3]"
   ]
  },
  {
   "cell_type": "code",
   "execution_count": 25,
   "id": "58e256e6-c427-42a3-aa90-364e14b8fc68",
   "metadata": {},
   "outputs": [
    {
     "data": {
      "text/plain": [
       "[2, 3]"
      ]
     },
     "execution_count": 25,
     "metadata": {},
     "output_type": "execute_result"
    }
   ],
   "source": [
    "sub_list"
   ]
  },
  {
   "cell_type": "code",
   "execution_count": 1,
   "id": "f2e4002c-0a9c-4bf2-b364-16dd46e61d66",
   "metadata": {},
   "outputs": [],
   "source": [
    "#Q6. What is a complex number in mathematics, and how is it represented in Python?\n",
    "# Solution= n mathematics, a complex number is an element of a number system that extends the real numbers with a specific element denoted i, called the imaginary unit and satisfying the equation {\\displaystyle i^{2}=-1}; every complex number can be expressed in the form a + bi, where a and b are real numbers.\n",
    "# In python complex numbers are a built-in data type expressed as x=a+bj\n",
    "x=2+3j"
   ]
  },
  {
   "cell_type": "code",
   "execution_count": 2,
   "id": "fae601fa-abcb-49b3-ac95-ad94bdb8a782",
   "metadata": {},
   "outputs": [
    {
     "data": {
      "text/plain": [
       "complex"
      ]
     },
     "execution_count": 2,
     "metadata": {},
     "output_type": "execute_result"
    }
   ],
   "source": [
    "type(x)"
   ]
  },
  {
   "cell_type": "code",
   "execution_count": 3,
   "id": "f388a0c3-0398-43c6-a2d9-dc8b7054a00e",
   "metadata": {},
   "outputs": [],
   "source": [
    "#Q7. What is the correct way to declare a variable named age and assign the value 25 to it?"
   ]
  },
  {
   "cell_type": "code",
   "execution_count": 4,
   "id": "cdedefa8-ce37-43a0-9c87-0539723ff898",
   "metadata": {},
   "outputs": [],
   "source": [
    "# Solution:\n",
    "age=25"
   ]
  },
  {
   "cell_type": "code",
   "execution_count": 6,
   "id": "894703b7-5b0a-4f44-94e9-e988844f5543",
   "metadata": {},
   "outputs": [
    {
     "data": {
      "text/plain": [
       "25"
      ]
     },
     "execution_count": 6,
     "metadata": {},
     "output_type": "execute_result"
    }
   ],
   "source": [
    "age"
   ]
  },
  {
   "cell_type": "code",
   "execution_count": 7,
   "id": "5349cdeb-1194-47b2-bdbb-7a0c8d4a1d7d",
   "metadata": {},
   "outputs": [],
   "source": [
    "# Q8. Declare a variable named price and assign the value 9.99 to it. What data type does this variable belong to?"
   ]
  },
  {
   "cell_type": "code",
   "execution_count": 8,
   "id": "323cdbd1-939c-417f-85b8-bc6372954dc3",
   "metadata": {},
   "outputs": [],
   "source": [
    "# Solution:\n",
    "price=9.99"
   ]
  },
  {
   "cell_type": "code",
   "execution_count": 9,
   "id": "a949777e-1f8e-41b2-8a2d-7cfee01be3d6",
   "metadata": {},
   "outputs": [
    {
     "data": {
      "text/plain": [
       "float"
      ]
     },
     "execution_count": 9,
     "metadata": {},
     "output_type": "execute_result"
    }
   ],
   "source": [
    "type(price)"
   ]
  },
  {
   "cell_type": "code",
   "execution_count": 10,
   "id": "59b834dd-4d9c-4a09-bc9b-a62103b15fb8",
   "metadata": {},
   "outputs": [],
   "source": [
    "# Q9. Create a variable named name and assign your full name to it as a string. How would you print the value of this variable?"
   ]
  },
  {
   "cell_type": "code",
   "execution_count": 16,
   "id": "037252e5-9a8e-46a2-9580-b758c5d9340a",
   "metadata": {},
   "outputs": [],
   "source": [
    "# Solution\n",
    "name=\"Nitish Kashyapa\"\n"
   ]
  },
  {
   "cell_type": "code",
   "execution_count": 17,
   "id": "1e75bdfc-60f1-439b-8bd9-bf7193beea34",
   "metadata": {},
   "outputs": [
    {
     "data": {
      "text/plain": [
       "str"
      ]
     },
     "execution_count": 17,
     "metadata": {},
     "output_type": "execute_result"
    }
   ],
   "source": [
    "type(name)"
   ]
  },
  {
   "cell_type": "code",
   "execution_count": 18,
   "id": "738d83da-6fcb-4b6a-b4bb-45b44831776f",
   "metadata": {},
   "outputs": [
    {
     "name": "stdout",
     "output_type": "stream",
     "text": [
      "Nitish Kashyapa\n"
     ]
    }
   ],
   "source": [
    "print(name)"
   ]
  },
  {
   "cell_type": "code",
   "execution_count": 19,
   "id": "2154476e-c00c-426e-a2ef-57f7bca14378",
   "metadata": {},
   "outputs": [],
   "source": [
    "# Q10. Given the string \"Hello, World!\", extract the substring \"World\"."
   ]
  },
  {
   "cell_type": "code",
   "execution_count": 20,
   "id": "d068ab22-7812-4850-ad1f-ce17831fc3d6",
   "metadata": {},
   "outputs": [],
   "source": [
    "# Solution:\n",
    "s =\"Hello, World!\""
   ]
  },
  {
   "cell_type": "code",
   "execution_count": 33,
   "id": "57a46551-40af-4af1-85b2-bc213e1511c9",
   "metadata": {},
   "outputs": [],
   "source": [
    "substring=s[7:12]"
   ]
  },
  {
   "cell_type": "code",
   "execution_count": 34,
   "id": "399a097a-ab6f-4e9b-83f1-d1db5bccbfd2",
   "metadata": {},
   "outputs": [
    {
     "data": {
      "text/plain": [
       "'World'"
      ]
     },
     "execution_count": 34,
     "metadata": {},
     "output_type": "execute_result"
    }
   ],
   "source": [
    "substring"
   ]
  },
  {
   "cell_type": "code",
   "execution_count": 35,
   "id": "03c2f1d8-aff6-444c-8c06-60b6801a4cf3",
   "metadata": {},
   "outputs": [],
   "source": [
    "#Q11. Create a variable named \"is_student\" and assign it a boolean value indicating whether you are currently a student or not."
   ]
  },
  {
   "cell_type": "code",
   "execution_count": 37,
   "id": "c9718ab1-470f-427b-a147-b86ee83230de",
   "metadata": {},
   "outputs": [
    {
     "name": "stdout",
     "output_type": "stream",
     "text": [
      "You are currently a student\n"
     ]
    }
   ],
   "source": [
    "# Solution:\n",
    "is_student=True\n",
    "if is_student==True:\n",
    "    print(\"You are currently a student\")\n",
    "else:\n",
    "    print(\"You are not a student\")\n"
   ]
  },
  {
   "cell_type": "code",
   "execution_count": null,
   "id": "3fa19479-ca57-4412-b602-8e42dcf4a4df",
   "metadata": {},
   "outputs": [],
   "source": []
  }
 ],
 "metadata": {
  "kernelspec": {
   "display_name": "Python 3 (ipykernel)",
   "language": "python",
   "name": "python3"
  },
  "language_info": {
   "codemirror_mode": {
    "name": "ipython",
    "version": 3
   },
   "file_extension": ".py",
   "mimetype": "text/x-python",
   "name": "python",
   "nbconvert_exporter": "python",
   "pygments_lexer": "ipython3",
   "version": "3.10.8"
  }
 },
 "nbformat": 4,
 "nbformat_minor": 5
}
