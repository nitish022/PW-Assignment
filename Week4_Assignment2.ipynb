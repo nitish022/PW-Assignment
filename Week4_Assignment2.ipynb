{
 "cells": [
  {
   "cell_type": "code",
   "execution_count": 3,
   "id": "1b77d447-99bd-4b97-a74f-bb3845806b35",
   "metadata": {},
   "outputs": [],
   "source": [
    "# Q1. What is Abstraction in OOps? Explain with an example."
   ]
  },
  {
   "cell_type": "code",
   "execution_count": 1,
   "id": "90c1287b-de3e-4609-8b5d-1bc0e44a5968",
   "metadata": {},
   "outputs": [
    {
     "data": {
      "text/plain": [
       "'Answer- Abstraction is the process of hiding the implementation details of an object from the user and only exposing the essential features.\\nThis allows the user to focus on the functionality of the object without having to worry about how it works.'"
      ]
     },
     "execution_count": 1,
     "metadata": {},
     "output_type": "execute_result"
    }
   ],
   "source": [
    "\"\"\"Answer- Abstraction is the process of hiding the implementation details of an object from the user and only exposing the essential features.\n",
    "This allows the user to focus on the functionality of the object without having to worry about how it works.\"\"\"\n"
   ]
  },
  {
   "cell_type": "code",
   "execution_count": 22,
   "id": "6f7febc5-a25c-49df-ad1e-81d9e400ba21",
   "metadata": {},
   "outputs": [],
   "source": [
    "# Example-\n",
    "import abc\n",
    "\n",
    "class quadrilateral:\n",
    "    \n",
    "    @abc.abstractmethod \n",
    "    def find_area(self):\n",
    "        pass\n",
    "    \n",
    "    @abc.abstractmethod\n",
    "    def find_perimeter(self):\n",
    "        pass\n",
    "    \n",
    "class rectangle(quadrilateral):\n",
    "    \n",
    "    def __init__(self, length, width):\n",
    "\n",
    "        self.length= length\n",
    "        self.width= width\n",
    "        \n",
    "    def find_area(self):\n",
    "        return self.length * self.width\n",
    "    \n",
    "    def find_perimeter(self):\n",
    "        return 2* (self.length + self.width)\n",
    "    \n",
    "class circle(quadrilateral):\n",
    "    \n",
    "    def __init__(self, radius):\n",
    "        self.radius= radius\n",
    "        \n",
    "    def find_area(self):\n",
    "        return 3.14 * self.radius**2\n",
    "    \n",
    "    def find_perimeter(self):\n",
    "        return 2*3.14*self.radius\n",
    "    \n",
    "rec= rectangle(4, 3) # instance of class\n",
    "cir= circle(3)"
   ]
  },
  {
   "cell_type": "code",
   "execution_count": 27,
   "id": "0450674d-a6f0-4509-84a0-66ccb7a6c896",
   "metadata": {},
   "outputs": [
    {
     "data": {
      "text/plain": [
       "12"
      ]
     },
     "execution_count": 27,
     "metadata": {},
     "output_type": "execute_result"
    }
   ],
   "source": [
    "rec.find_area() # call the method"
   ]
  },
  {
   "cell_type": "code",
   "execution_count": 24,
   "id": "cbd6da4b-ca33-4746-b108-051d1582c9db",
   "metadata": {},
   "outputs": [
    {
     "data": {
      "text/plain": [
       "14"
      ]
     },
     "execution_count": 24,
     "metadata": {},
     "output_type": "execute_result"
    }
   ],
   "source": [
    "rec.find_perimeter() # call the method"
   ]
  },
  {
   "cell_type": "code",
   "execution_count": 25,
   "id": "557629e2-12d4-4788-aee9-36e5165a3811",
   "metadata": {},
   "outputs": [
    {
     "data": {
      "text/plain": [
       "28.26"
      ]
     },
     "execution_count": 25,
     "metadata": {},
     "output_type": "execute_result"
    }
   ],
   "source": [
    "cir.find_area() # call the method"
   ]
  },
  {
   "cell_type": "code",
   "execution_count": 26,
   "id": "b5fabf5b-8b0c-4c5d-956d-92c71699a1d1",
   "metadata": {},
   "outputs": [
    {
     "data": {
      "text/plain": [
       "18.84"
      ]
     },
     "execution_count": 26,
     "metadata": {},
     "output_type": "execute_result"
    }
   ],
   "source": [
    "cir.find_perimeter() # call the method"
   ]
  },
  {
   "cell_type": "code",
   "execution_count": 28,
   "id": "e244cdfe-6fac-4cad-8a75-29467f1702ce",
   "metadata": {},
   "outputs": [],
   "source": [
    "# Q2. Differentiate between Abstraction and Encapsulation. Explain with an example."
   ]
  },
  {
   "cell_type": "code",
   "execution_count": 1,
   "id": "240a2d15-5d50-4013-ba07-103573fd9382",
   "metadata": {},
   "outputs": [
    {
     "data": {
      "text/plain": [
       "' Answer- Abstraction and encapsulation are two important concepts in object-oriented programming (OOP). They are often confused with each other, but they have different meanings.\\n\\nAbstraction is the process of hiding the implementation details of an object from the user and only exposing the essential features. This allows the user to focus on the functionality of the object without having to worry about how it works.\\n\\nEncapsulation is the process of grouping together data and the methods that operate on that data into a single unit. This helps to protect the data from unauthorized access and modification.'"
      ]
     },
     "execution_count": 1,
     "metadata": {},
     "output_type": "execute_result"
    }
   ],
   "source": [
    "\"\"\" Answer- Abstraction and encapsulation are two important concepts in object-oriented programming (OOP). They are often confused with each other, but they have different meanings.\n",
    "\n",
    "Abstraction is the process of hiding the implementation details of an object from the user and only exposing the essential features. This allows the user to focus on the functionality of the object without having to worry about how it works.\n",
    "\n",
    "Encapsulation is the process of grouping together data and the methods that operate on that data into a single unit. This helps to protect the data from unauthorized access and modification.\"\"\""
   ]
  },
  {
   "cell_type": "code",
   "execution_count": 10,
   "id": "69c8bbe8-baf3-4248-abd3-e88a124c8873",
   "metadata": {},
   "outputs": [],
   "source": [
    "# Example- Encapsulation\n",
    "class car:\n",
    "    def __init__(self,year, make, model, speed ):\n",
    "        self.__year=year # year id private\n",
    "        self.__make=make # make is private\n",
    "        self.__model=model # model is private\n",
    "        self.__speed= 0 # speed is private\n",
    "        \n",
    "    def set_speed(self, speed):\n",
    "        self.__speed= 0 if speed <0 else speed\n",
    "    \n",
    "    def get_speed(self):\n",
    "        return self.__speed"
   ]
  },
  {
   "cell_type": "code",
   "execution_count": 11,
   "id": "9f604c08-92b0-4f21-af37-b73c3a3a8e79",
   "metadata": {},
   "outputs": [],
   "source": [
    "s=car(2023, \"tesla\", \"tesla1.0\", 200)"
   ]
  },
  {
   "cell_type": "code",
   "execution_count": 14,
   "id": "606420ff-a1ec-43ec-84eb-c220a99534c5",
   "metadata": {},
   "outputs": [],
   "source": [
    "s.set_speed(60)"
   ]
  },
  {
   "cell_type": "code",
   "execution_count": 15,
   "id": "86f0bd34-fe22-4975-855d-1dfdaa417e0d",
   "metadata": {},
   "outputs": [
    {
     "data": {
      "text/plain": [
       "60"
      ]
     },
     "execution_count": 15,
     "metadata": {},
     "output_type": "execute_result"
    }
   ],
   "source": [
    "s.get_speed()"
   ]
  },
  {
   "cell_type": "code",
   "execution_count": 16,
   "id": "b473df2b-5982-494b-9466-233cd72bf898",
   "metadata": {},
   "outputs": [],
   "source": [
    "import abc    # Abstraction example\n",
    "\n",
    "class quadrilateral:\n",
    "    \n",
    "    @abc.abstractmethod \n",
    "    def find_area(self):\n",
    "        pass\n",
    "    \n",
    "    @abc.abstractmethod\n",
    "    def find_perimeter(self):\n",
    "        pass\n",
    "    \n",
    "class rectangle(quadrilateral):\n",
    "    \n",
    "    def __init__(self, length, width):\n",
    "\n",
    "        self.length= length\n",
    "        self.width= width\n",
    "        \n",
    "    def find_area(self):\n",
    "        return self.length * self.width\n",
    "    \n",
    "    def find_perimeter(self):\n",
    "        return 2* (self.length + self.width)\n",
    "    \n",
    "class circle(quadrilateral):\n",
    "    \n",
    "    def __init__(self, radius):\n",
    "        self.radius= radius\n",
    "        \n",
    "    def find_area(self):\n",
    "        return 3.14 * self.radius**2\n",
    "    \n",
    "    def find_perimeter(self):\n",
    "        return 2*3.14*self.radius\n",
    "    \n",
    "rec= rectangle(4, 3) # instance of class\n",
    "cir= circle(3)"
   ]
  },
  {
   "cell_type": "code",
   "execution_count": 17,
   "id": "b4504830-fa96-438d-9f26-4a4ae2abf99c",
   "metadata": {},
   "outputs": [
    {
     "data": {
      "text/plain": [
       "12"
      ]
     },
     "execution_count": 17,
     "metadata": {},
     "output_type": "execute_result"
    }
   ],
   "source": [
    "rec.find_area()"
   ]
  },
  {
   "cell_type": "code",
   "execution_count": 20,
   "id": "d474ac9e-8aab-4895-b6f1-9679564e1cee",
   "metadata": {},
   "outputs": [
    {
     "data": {
      "text/plain": [
       "18.84"
      ]
     },
     "execution_count": 20,
     "metadata": {},
     "output_type": "execute_result"
    }
   ],
   "source": [
    "cir.find_perimeter()"
   ]
  },
  {
   "cell_type": "code",
   "execution_count": 21,
   "id": "05ca7d4c-e94b-40a5-a055-dac781f45657",
   "metadata": {},
   "outputs": [],
   "source": [
    "# Q3. What is abc module in python? Why is it used?"
   ]
  },
  {
   "cell_type": "code",
   "execution_count": 22,
   "id": "e7fb49c9-909e-4737-8d62-142e4feb1a42",
   "metadata": {},
   "outputs": [
    {
     "data": {
      "text/plain": [
       "'Answer- The abc module in Python stands for \"Abstract Base Classes.\" It provides infrastructure for defining abstract base classes (ABCs) in Python. ABCs are classes that cannot be instantiated directly but serve as templates or blueprints for other classes to inherit from. \\nThe abc module is used to:\\nDefine interfaces in Python.\\nEnsure that subclasses implement the required functionality.\\nProvide a way to write generic code that can work with any class that implements a particular interface.'"
      ]
     },
     "execution_count": 22,
     "metadata": {},
     "output_type": "execute_result"
    }
   ],
   "source": [
    "\"\"\"Answer- The abc module in Python stands for \"Abstract Base Classes.\" It provides infrastructure for defining abstract base classes (ABCs) in Python. ABCs are classes that cannot be instantiated directly but serve as templates or blueprints for other classes to inherit from. \n",
    "The abc module is used to:\n",
    "Define interfaces in Python.\n",
    "Ensure that subclasses implement the required functionality.\n",
    "Provide a way to write generic code that can work with any class that implements a particular interface.\"\"\""
   ]
  },
  {
   "cell_type": "code",
   "execution_count": 23,
   "id": "d8b96610-8d59-4906-bf56-463916b7c3b5",
   "metadata": {},
   "outputs": [],
   "source": [
    "# Q4. How can we achieve data abstraction?"
   ]
  },
  {
   "cell_type": "code",
   "execution_count": 24,
   "id": "dd048535-4cef-488f-ac1f-2b25b7452fe3",
   "metadata": {},
   "outputs": [
    {
     "data": {
      "text/plain": [
       "'Data abstraction in Python can be achieved using abstract classes and interfaces.\\n\\nAbstract classes are classes that cannot be instantiated. They are used to define the interface that must be implemented by subclasses. Abstract methods are methods that are declared in an abstract class, but they do not have any implementation. Subclasses that inherit from an abstract base class must override the abstract methods.\\nInterfaces are a way to define a set of methods that a class must implement. Interfaces cannot be instantiated, but they can be used to enforce a certain level of consistency in the design of classes.'"
      ]
     },
     "execution_count": 24,
     "metadata": {},
     "output_type": "execute_result"
    }
   ],
   "source": [
    "\"\"\"Data abstraction in Python can be achieved using abstract classes and interfaces.\n",
    "\n",
    "Abstract classes are classes that cannot be instantiated. They are used to define the interface that must be implemented by subclasses. Abstract methods are methods that are declared in an abstract class, but they do not have any implementation. Subclasses that inherit from an abstract base class must override the abstract methods.\n",
    "Interfaces are a way to define a set of methods that a class must implement. Interfaces cannot be instantiated, but they can be used to enforce a certain level of consistency in the design of classes.\"\"\""
   ]
  },
  {
   "cell_type": "code",
   "execution_count": 31,
   "id": "8bae37e1-43f2-44be-a2d2-c3ab829e5af9",
   "metadata": {},
   "outputs": [],
   "source": [
    "# Example-  how to achieve data abstraction in Python using abstract classes\n",
    "import abc    # Abstraction example\n",
    "\n",
    "class quad:\n",
    "    \n",
    "    @abc.abstractmethod \n",
    "    def find_area(self):\n",
    "        pass\n",
    "    \n",
    "class Square(quad):\n",
    "    \n",
    "    def __init__(self, side):\n",
    "\n",
    "        self.side= side\n",
    "        \n",
    "    def find_area(self):\n",
    "        return self.side * self.side\n",
    "    \n",
    "class Circle(quad):\n",
    "    \n",
    "    def __init__(self, radius):\n",
    "        self.radius= radius\n",
    "        \n",
    "    def find_area(self):\n",
    "        return 3.14 * self.radius**2\n",
    "    \n",
    "    \n",
    "Area_S= Square(7)\n",
    "               \n",
    "Area_C= Circle(4)\n",
    "\n"
   ]
  },
  {
   "cell_type": "code",
   "execution_count": 28,
   "id": "e3a4f093-c820-4a18-9ef6-ea525946c75e",
   "metadata": {},
   "outputs": [
    {
     "data": {
      "text/plain": [
       "49"
      ]
     },
     "execution_count": 28,
     "metadata": {},
     "output_type": "execute_result"
    }
   ],
   "source": [
    "Area_S.find_area()"
   ]
  },
  {
   "cell_type": "code",
   "execution_count": 32,
   "id": "6fa844d1-0ffa-4906-83e1-2f3711dd8f20",
   "metadata": {},
   "outputs": [
    {
     "data": {
      "text/plain": [
       "50.24"
      ]
     },
     "execution_count": 32,
     "metadata": {},
     "output_type": "execute_result"
    }
   ],
   "source": [
    "Area_C.find_area()"
   ]
  },
  {
   "cell_type": "code",
   "execution_count": 33,
   "id": "7b3785f0-d704-45dd-9ed2-fb2121e19077",
   "metadata": {},
   "outputs": [],
   "source": [
    "# Q5. Can we create an instance of an abstract class? Explain your answer."
   ]
  },
  {
   "cell_type": "code",
   "execution_count": 34,
   "id": "c5b0c038-3f20-4832-92c9-a864b115dfac",
   "metadata": {},
   "outputs": [
    {
     "data": {
      "text/plain": [
       "'Answer- No, we cannot create an instance of an abstract class in Python. Abstract classes are designed to be incomplete and serve as a blueprint or template for other classes to inherit from and provide implementations for the abstract methods defined in the abstract class.\\nThe reason why you cannot create an instance of an abstract class is that it does not have any implementation. The abstract methods in an abstract class must be implemented by subclasses.\\nto create an object that implements the interface defined by an abstract class, one need to create a subclass of the abstract class and implement the abstract methods'"
      ]
     },
     "execution_count": 34,
     "metadata": {},
     "output_type": "execute_result"
    }
   ],
   "source": [
    "\"\"\"Answer- No, we cannot create an instance of an abstract class in Python. Abstract classes are designed to be incomplete and serve as a blueprint or template for other classes to inherit from and provide implementations for the abstract methods defined in the abstract class.\n",
    "The reason why you cannot create an instance of an abstract class is that it does not have any implementation. The abstract methods in an abstract class must be implemented by subclasses.\n",
    "to create an object that implements the interface defined by an abstract class, one need to create a subclass of the abstract class and implement the abstract methods\"\"\""
   ]
  },
  {
   "cell_type": "code",
   "execution_count": 45,
   "id": "e4165aa4-f9bb-4aa6-9b40-adab33962086",
   "metadata": {},
   "outputs": [
    {
     "ename": "ImportError",
     "evalue": "cannot import name 'Abstractmethod' from 'abc' (/opt/conda/lib/python3.10/abc.py)",
     "output_type": "error",
     "traceback": [
      "\u001b[0;31m---------------------------------------------------------------------------\u001b[0m",
      "\u001b[0;31mImportError\u001b[0m                               Traceback (most recent call last)",
      "Cell \u001b[0;32mIn[45], line 2\u001b[0m\n\u001b[1;32m      1\u001b[0m \u001b[38;5;66;03m# Example-\u001b[39;00m\n\u001b[0;32m----> 2\u001b[0m \u001b[38;5;28;01mfrom\u001b[39;00m \u001b[38;5;21;01mabc\u001b[39;00m \u001b[38;5;28;01mimport\u001b[39;00m ABC, Abstractmethod\n\u001b[1;32m      4\u001b[0m \u001b[38;5;28;01mclass\u001b[39;00m \u001b[38;5;21;01mquad\u001b[39;00m(ABC):\n\u001b[1;32m      6\u001b[0m     \u001b[38;5;129m@abstractmethod\u001b[39m \n\u001b[1;32m      7\u001b[0m     \u001b[38;5;28;01mdef\u001b[39;00m \u001b[38;5;21mfind_area\u001b[39m(\u001b[38;5;28mself\u001b[39m):\n",
      "\u001b[0;31mImportError\u001b[0m: cannot import name 'Abstractmethod' from 'abc' (/opt/conda/lib/python3.10/abc.py)"
     ]
    }
   ],
   "source": [
    "# Example-\n",
    "from abc import ABC, Abstractmethod\n",
    "\n",
    "class quad(ABC):\n",
    "    \n",
    "    @abstractmethod \n",
    "    def find_area(self):\n",
    "        pass\n",
    "    \n"
   ]
  },
  {
   "cell_type": "code",
   "execution_count": 54,
   "id": "ff73c0be-d745-4441-b7d7-4a6f6f2e6fe2",
   "metadata": {},
   "outputs": [],
   "source": [
    "import abc\n",
    "\n",
    "class quad:\n",
    "    \n",
    "    @abstractmethod \n",
    "    def find_area(self):\n",
    "        pass\n",
    "    \n",
    "class square(quad):\n",
    "\n",
    "    def __init__(self, side):\n",
    "        self.side = side\n",
    "\n",
    "    def find_area(self):\n",
    "        return self.side * self.side\n"
   ]
  },
  {
   "cell_type": "code",
   "execution_count": 53,
   "id": "d6e84d5c-a8e9-4fcf-bc1b-4bc54a6ba5de",
   "metadata": {},
   "outputs": [],
   "source": [
    "Area_square = square(3)"
   ]
  },
  {
   "cell_type": "code",
   "execution_count": 56,
   "id": "8df3f429-6ae9-45e0-bdad-b86c25a1d75e",
   "metadata": {},
   "outputs": [],
   "source": [
    "Area_square.find_area()"
   ]
  },
  {
   "cell_type": "code",
   "execution_count": null,
   "id": "a3fa9099-a194-4f3e-b14c-85bd3fa9ea06",
   "metadata": {},
   "outputs": [],
   "source": []
  }
 ],
 "metadata": {
  "kernelspec": {
   "display_name": "Python 3 (ipykernel)",
   "language": "python",
   "name": "python3"
  },
  "language_info": {
   "codemirror_mode": {
    "name": "ipython",
    "version": 3
   },
   "file_extension": ".py",
   "mimetype": "text/x-python",
   "name": "python",
   "nbconvert_exporter": "python",
   "pygments_lexer": "ipython3",
   "version": "3.10.8"
  }
 },
 "nbformat": 4,
 "nbformat_minor": 5
}
