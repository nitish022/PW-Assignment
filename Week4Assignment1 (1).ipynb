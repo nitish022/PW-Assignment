{
 "cells": [
  {
   "cell_type": "code",
   "execution_count": 12,
   "id": "fe1cb6b8-b926-4e91-93e0-1904b63a19d9",
   "metadata": {},
   "outputs": [],
   "source": [
    "# Q1. Explain Class and Object with respect to Object-Oriented Programming. Give a suitable example."
   ]
  },
  {
   "cell_type": "code",
   "execution_count": 2,
   "id": "f89db73a-3988-42f7-b7ae-8cabf8bb5387",
   "metadata": {},
   "outputs": [
    {
     "data": {
      "text/plain": [
       "'In object-oriented programming (OOP), a class is a blueprint or a template for creating objects, while an object is an instance of a class. Classes define the common properties and behaviors that objects of the same type will possess, allowing us to create multiple objects with similar characteristics.\\n\\nA class encapsulates data (attributes) and functions (methods) that operate on that data. It defines the structure and behavior of objects. The data in a class is represented by its attributes, which are variables associated with the class. The functions within a class are called methods, and they define the actions or operations that objects of that class can perform.'"
      ]
     },
     "execution_count": 2,
     "metadata": {},
     "output_type": "execute_result"
    }
   ],
   "source": [
    "#Answer-\n",
    "\"\"\"In object-oriented programming (OOP), a class is a blueprint or a template for creating objects, while an object is an instance of a class. Classes define the common properties and behaviors that objects of the same type will possess, allowing us to create multiple objects with similar characteristics.\n",
    "\n",
    "A class encapsulates data (attributes) and functions (methods) that operate on that data. It defines the structure and behavior of objects. The data in a class is represented by its attributes, which are variables associated with the class. The functions within a class are called methods, and they define the actions or operations that objects of that class can perform.\"\"\""
   ]
  },
  {
   "cell_type": "code",
   "execution_count": 1,
   "id": "6ded6c83-cf61-4c84-b4fd-b24620409b6a",
   "metadata": {},
   "outputs": [],
   "source": [
    "# Example\n",
    "class student :\n",
    "    def __init__(self, name, email_id, mobile_no ):\n",
    "        self.name= name\n",
    "        self.email_id= email_id\n",
    "        self.mobile_no= mobile_no\n",
    "        \n",
    "    def student_details(self):\n",
    "        return self.name, self.email_id, self.mobile_no\n",
    "    \n"
   ]
  },
  {
   "cell_type": "code",
   "execution_count": 4,
   "id": "7832cfaa-72da-4028-84cf-70c1779d0228",
   "metadata": {},
   "outputs": [],
   "source": [
    "pw_student= student(\"ramesh\", \"ramesh@gamil.com\", 9911111000) # pw_student is an object of the class student"
   ]
  },
  {
   "cell_type": "code",
   "execution_count": 8,
   "id": "1b8a07b0-a25c-4d5e-89ca-643452f0f7d2",
   "metadata": {},
   "outputs": [
    {
     "data": {
      "text/plain": [
       "('ramesh', 'ramesh@gamil.com', 9911111000)"
      ]
     },
     "execution_count": 8,
     "metadata": {},
     "output_type": "execute_result"
    }
   ],
   "source": [
    "pw_student.student_details()"
   ]
  },
  {
   "cell_type": "code",
   "execution_count": 9,
   "id": "a8df3216-3ffd-4c9b-afd5-9388ec3c503a",
   "metadata": {},
   "outputs": [],
   "source": [
    "# Q2. Name the four pillars of OOPs."
   ]
  },
  {
   "cell_type": "code",
   "execution_count": 10,
   "id": "36632c57-723f-475e-8390-336d76446907",
   "metadata": {},
   "outputs": [
    {
     "data": {
      "text/plain": [
       "'Answer- Encapsulation, inheritance, polymorphism and abstraction are four pillors of oops.'"
      ]
     },
     "execution_count": 10,
     "metadata": {},
     "output_type": "execute_result"
    }
   ],
   "source": [
    "\"\"\"Answer- Encapsulation, inheritance, polymorphism and abstraction are four pillors of oops.\"\"\"\n"
   ]
  },
  {
   "cell_type": "code",
   "execution_count": 11,
   "id": "f0207c55-4e2f-462a-b23d-6bc656660d1e",
   "metadata": {},
   "outputs": [],
   "source": [
    "# Q3. Explain why the __init__() function is used. Give a suitable example."
   ]
  },
  {
   "cell_type": "code",
   "execution_count": 13,
   "id": "c039351a-a918-4277-8adc-057b7771ff33",
   "metadata": {},
   "outputs": [
    {
     "data": {
      "text/plain": [
       "'Answer- The __init__() function is a special method in Python classes and is used as a constructor. It is automatically called when an object of a class is created. The purpose of the __init__() method is to initialize the attributes (data members) of an object.'"
      ]
     },
     "execution_count": 13,
     "metadata": {},
     "output_type": "execute_result"
    }
   ],
   "source": [
    "\"\"\"Answer- The __init__() function is a special method in Python classes and is used as a constructor. It is automatically called when an object of a class is created. The purpose of the __init__() method is to initialize the attributes (data members) of an object.\"\"\""
   ]
  },
  {
   "cell_type": "code",
   "execution_count": 14,
   "id": "42f8f5e6-01e7-4959-98de-e8f2c2581ebc",
   "metadata": {},
   "outputs": [],
   "source": [
    "# Example\n",
    "class student :\n",
    "    def __init__(self, name, course, email_id, mobile_no ):\n",
    "        self.name= name\n",
    "        self.course= course\n",
    "        self.email_id= email_id\n",
    "        self.mobile_no= mobile_no\n",
    "        \n",
    "    def student_details(self):\n",
    "        return self.name, self.course, self.email_id, self.mobile_no\n"
   ]
  },
  {
   "cell_type": "code",
   "execution_count": 15,
   "id": "91b12ab3-b87f-4ace-8f81-893bcead2a14",
   "metadata": {},
   "outputs": [],
   "source": [
    "pw_student= student(\"ramesh\", \"data science\", \"ramesh@gamil.com\", 9911111000)"
   ]
  },
  {
   "cell_type": "code",
   "execution_count": 17,
   "id": "34e9832c-3af9-4378-8996-8347ee642ecf",
   "metadata": {},
   "outputs": [
    {
     "data": {
      "text/plain": [
       "('ramesh', 'data science', 'ramesh@gamil.com', 9911111000)"
      ]
     },
     "execution_count": 17,
     "metadata": {},
     "output_type": "execute_result"
    }
   ],
   "source": [
    "pw_student.student_details()"
   ]
  },
  {
   "cell_type": "code",
   "execution_count": 18,
   "id": "e743b7c5-5706-4803-81d9-ad753fe21d0e",
   "metadata": {},
   "outputs": [],
   "source": [
    "# Q4. Why self is used in OOPs?"
   ]
  },
  {
   "cell_type": "code",
   "execution_count": 20,
   "id": "47aa9f22-4d49-4bfc-b88f-f411986c937a",
   "metadata": {},
   "outputs": [
    {
     "data": {
      "text/plain": [
       "\"Answer- In object-oriented programming (OOPs), the self parameter is used to refer to the instance of a class within the class's methods.The purpose of self is to allow the methods to access and manipulate the attributes and methods of the object it belongs to.\""
      ]
     },
     "execution_count": 20,
     "metadata": {},
     "output_type": "execute_result"
    }
   ],
   "source": [
    "\"\"\"Answer- In object-oriented programming (OOPs), the self parameter is used to refer to the instance of a class within the class's methods.The purpose of self is to allow the methods to access and manipulate the attributes and methods of the object it belongs to.\"\"\""
   ]
  },
  {
   "cell_type": "code",
   "execution_count": 21,
   "id": "b4d14bf5-f547-4284-97a0-dd4fe326af8f",
   "metadata": {},
   "outputs": [],
   "source": [
    "# Q5. What is inheritance? Give an example for each type of inheritance."
   ]
  },
  {
   "cell_type": "code",
   "execution_count": 22,
   "id": "75b6f25e-fa2d-41b3-a5a7-389410cfc4aa",
   "metadata": {},
   "outputs": [
    {
     "data": {
      "text/plain": [
       "'Answer- Inheritance is a fundamental concept in object-oriented programming (OOP) that allows one class to inherit properties and behaviors from another class. The class that inherits is called the subclass or derived class, and the class being inherited from is called the superclass or base class. Inheritance promotes code reuse and facilitates the creation of hierarchical relationships between classes. \\nThere are multiple types of inheritance i.e single, multiple and multilevel inheritance.'"
      ]
     },
     "execution_count": 22,
     "metadata": {},
     "output_type": "execute_result"
    }
   ],
   "source": [
    "\"\"\"Answer- Inheritance is a fundamental concept in object-oriented programming (OOP) that allows one class to inherit properties and behaviors from another class. The class that inherits is called the subclass or derived class, and the class being inherited from is called the superclass or base class. Inheritance promotes code reuse and facilitates the creation of hierarchical relationships between classes. \n",
    "There are multiple types of inheritance i.e single, multiple and multilevel inheritance.\"\"\" "
   ]
  },
  {
   "cell_type": "code",
   "execution_count": 16,
   "id": "ebd498b8-402e-4947-95e5-586fc342e07c",
   "metadata": {},
   "outputs": [],
   "source": [
    "# Example-\n",
    "# Single inheritance\n",
    "class student:\n",
    "    def __init__(self, name, email_id):\n",
    "        self.name = name\n",
    "        self.email_id = email_id\n",
    "        \n",
    "    def student_details(self):\n",
    "        return self.name, self.email_id\n",
    "\n",
    "class pw_student(student):\n",
    "    def __init__(self, name, email_id, course):\n",
    "        super().__init__(name, email_id)\n",
    "        self.course = course\n",
    "    def pw_student_details(self):\n",
    "        return self.course\n"
   ]
  },
  {
   "cell_type": "code",
   "execution_count": 17,
   "id": "1db32d63-0639-4334-a470-62aa7c24c8ba",
   "metadata": {},
   "outputs": [],
   "source": [
    "pw=pw_student('Mohan', 'mohan@gmail.com', 'data science')"
   ]
  },
  {
   "cell_type": "code",
   "execution_count": 13,
   "id": "2fe86235-1d2e-4822-8d31-e943e8d6497e",
   "metadata": {},
   "outputs": [
    {
     "data": {
      "text/plain": [
       "'Mohan'"
      ]
     },
     "execution_count": 13,
     "metadata": {},
     "output_type": "execute_result"
    }
   ],
   "source": [
    "pw.name"
   ]
  },
  {
   "cell_type": "code",
   "execution_count": 14,
   "id": "2b3b3d0e-e5a6-4a35-8237-3fc82c5f201b",
   "metadata": {},
   "outputs": [
    {
     "data": {
      "text/plain": [
       "'mohan@gmail.com'"
      ]
     },
     "execution_count": 14,
     "metadata": {},
     "output_type": "execute_result"
    }
   ],
   "source": [
    "pw.email_id"
   ]
  },
  {
   "cell_type": "code",
   "execution_count": 15,
   "id": "18fa7985-5286-4ede-9932-dffb96166dd9",
   "metadata": {},
   "outputs": [
    {
     "data": {
      "text/plain": [
       "'data science'"
      ]
     },
     "execution_count": 15,
     "metadata": {},
     "output_type": "execute_result"
    }
   ],
   "source": [
    "pw.course"
   ]
  },
  {
   "cell_type": "code",
   "execution_count": 19,
   "id": "3be8e5eb-f59b-4134-bf4a-0466676bf2d6",
   "metadata": {},
   "outputs": [
    {
     "data": {
      "text/plain": [
       "('Mohan', 'mohan@gmail.com')"
      ]
     },
     "execution_count": 19,
     "metadata": {},
     "output_type": "execute_result"
    }
   ],
   "source": [
    "pw.student_details()"
   ]
  },
  {
   "cell_type": "code",
   "execution_count": 21,
   "id": "94e997a8-b106-43c4-81fd-6fb1eb91d8fa",
   "metadata": {},
   "outputs": [
    {
     "data": {
      "text/plain": [
       "'data science'"
      ]
     },
     "execution_count": 21,
     "metadata": {},
     "output_type": "execute_result"
    }
   ],
   "source": [
    "pw.pw_student_details()"
   ]
  },
  {
   "cell_type": "code",
   "execution_count": 32,
   "id": "b73d2181-1f5f-4470-b38b-cdd6ebf84cdc",
   "metadata": {},
   "outputs": [],
   "source": [
    "# multiple inheritance\n",
    "class student:\n",
    "    def __init__(self, name, email_id):\n",
    "        self.name = name\n",
    "        self.email_id = email_id\n",
    "        \n",
    "    def student_details(self):\n",
    "        return self.name, self.email_id\n",
    "\n",
    "class data_sci_student():\n",
    "    def __init__(self, course, course_fee):\n",
    "        self.course = course\n",
    "        self.course_fee=course_fee\n",
    "        \n",
    "    def data_sci_student_details(self):\n",
    "        return self.course, self.course_fee\n",
    "    \n",
    "class pw_student(student, data_sci_student):\n",
    "    def __init__(self, name, email_id, course, course_fee):\n",
    "        super().__init__(name, email_id)\n",
    "        self.course= course\n",
    "        self.course_fee= course_fee\n",
    "    def pw_student_details(self):\n",
    "        return self.course, self.course_fee\n",
    "        \n",
    "    \n",
    "    \n"
   ]
  },
  {
   "cell_type": "code",
   "execution_count": 34,
   "id": "c611077e-2ef7-45e7-a5f0-a623dc3ace90",
   "metadata": {},
   "outputs": [],
   "source": [
    "pw = pw_student('Nitish', 'niti@gmail.com', 'data science', 3500)"
   ]
  },
  {
   "cell_type": "code",
   "execution_count": 36,
   "id": "72ef72a8-7417-43d5-ad22-ad2ad4880db1",
   "metadata": {},
   "outputs": [
    {
     "data": {
      "text/plain": [
       "('data science', 3500)"
      ]
     },
     "execution_count": 36,
     "metadata": {},
     "output_type": "execute_result"
    }
   ],
   "source": [
    "pw.pw_student_details()"
   ]
  },
  {
   "cell_type": "code",
   "execution_count": 41,
   "id": "47f3a6c0-2c2e-4805-a485-1e3167070d02",
   "metadata": {},
   "outputs": [
    {
     "data": {
      "text/plain": [
       "('data science', 3500)"
      ]
     },
     "execution_count": 41,
     "metadata": {},
     "output_type": "execute_result"
    }
   ],
   "source": [
    "pw.data_sci_student_details()"
   ]
  },
  {
   "cell_type": "code",
   "execution_count": 42,
   "id": "5ca43f35-7d96-4c8b-b19e-db0d35b78adb",
   "metadata": {},
   "outputs": [
    {
     "data": {
      "text/plain": [
       "('Nitish', 'niti@gmail.com')"
      ]
     },
     "execution_count": 42,
     "metadata": {},
     "output_type": "execute_result"
    }
   ],
   "source": [
    "pw.student_details()"
   ]
  },
  {
   "cell_type": "code",
   "execution_count": 43,
   "id": "53168f59-112a-4c14-96e7-fe55ac338514",
   "metadata": {},
   "outputs": [
    {
     "data": {
      "text/plain": [
       "'Nitish'"
      ]
     },
     "execution_count": 43,
     "metadata": {},
     "output_type": "execute_result"
    }
   ],
   "source": [
    "pw.name"
   ]
  },
  {
   "cell_type": "code",
   "execution_count": 44,
   "id": "0c0d4376-eba0-49d3-8839-74e4233f9d36",
   "metadata": {},
   "outputs": [
    {
     "data": {
      "text/plain": [
       "3500"
      ]
     },
     "execution_count": 44,
     "metadata": {},
     "output_type": "execute_result"
    }
   ],
   "source": [
    "pw.course_fee"
   ]
  },
  {
   "cell_type": "code",
   "execution_count": 54,
   "id": "4f54468b-2821-46d7-b43d-a496ab2f5fd6",
   "metadata": {},
   "outputs": [],
   "source": [
    "# Multilevel inheritance\n",
    "class student:\n",
    "    def __init__(self, name, email_id):\n",
    "        self.name = name\n",
    "        self.email_id = email_id\n",
    "        \n",
    "    def student_details(self):\n",
    "        return self.name, self.email_id\n",
    "\n",
    "class data_sci_student(student):\n",
    "    def __init__(self, name, email_id, course, course_fee):\n",
    "        super().__init__(name, email_id)\n",
    "        self.course = course\n",
    "        self.course_fee=course_fee\n",
    "       \n",
    "    def data_sci_student_details(self):\n",
    "        return self.course, self.course_fee\n",
    "    \n",
    "class pw_student(data_sci_student):\n",
    "    def __init__(self, name, email_id, course, course_fee, batch_time):\n",
    "        super().__init__(name, email_id, course, course_fee)\n",
    "        self.batch_time= batch_time\n",
    "    \n",
    "    def pw_student_details(self):\n",
    "        return self.batch_time\n"
   ]
  },
  {
   "cell_type": "code",
   "execution_count": 55,
   "id": "c9b715f7-9be4-427a-82c0-475b66980349",
   "metadata": {},
   "outputs": [],
   "source": [
    "pw = pw_student('ram', 'ram@gmail.com', 'data science', 3500, ' 8 pm to 10 pm')"
   ]
  },
  {
   "cell_type": "code",
   "execution_count": 56,
   "id": "ac298646-fbf2-4c6a-bb83-ba9f4b215d0d",
   "metadata": {},
   "outputs": [
    {
     "data": {
      "text/plain": [
       "' 8 pm to 10 pm'"
      ]
     },
     "execution_count": 56,
     "metadata": {},
     "output_type": "execute_result"
    }
   ],
   "source": [
    "pw.pw_student_details()"
   ]
  },
  {
   "cell_type": "code",
   "execution_count": 57,
   "id": "c61c109d-852b-4d9f-8754-5787c8da6299",
   "metadata": {},
   "outputs": [
    {
     "data": {
      "text/plain": [
       "('data science', 3500)"
      ]
     },
     "execution_count": 57,
     "metadata": {},
     "output_type": "execute_result"
    }
   ],
   "source": [
    "pw.data_sci_student_details()"
   ]
  },
  {
   "cell_type": "code",
   "execution_count": 58,
   "id": "45bec787-d7ea-4aae-8a31-2961639c9667",
   "metadata": {},
   "outputs": [
    {
     "data": {
      "text/plain": [
       "('ram', 'ram@gmail.com')"
      ]
     },
     "execution_count": 58,
     "metadata": {},
     "output_type": "execute_result"
    }
   ],
   "source": [
    "pw.student_details()"
   ]
  },
  {
   "cell_type": "code",
   "execution_count": 59,
   "id": "4226e8bf-cfcf-40d2-8c22-b2b1de2c8910",
   "metadata": {},
   "outputs": [
    {
     "data": {
      "text/plain": [
       "'ram'"
      ]
     },
     "execution_count": 59,
     "metadata": {},
     "output_type": "execute_result"
    }
   ],
   "source": [
    "pw.name\n"
   ]
  },
  {
   "cell_type": "code",
   "execution_count": null,
   "id": "8acdb814-124c-444f-80c9-35d30e660d1f",
   "metadata": {},
   "outputs": [],
   "source": [
    "pw.cou"
   ]
  }
 ],
 "metadata": {
  "kernelspec": {
   "display_name": "Python 3 (ipykernel)",
   "language": "python",
   "name": "python3"
  },
  "language_info": {
   "codemirror_mode": {
    "name": "ipython",
    "version": 3
   },
   "file_extension": ".py",
   "mimetype": "text/x-python",
   "name": "python",
   "nbconvert_exporter": "python",
   "pygments_lexer": "ipython3",
   "version": "3.10.8"
  }
 },
 "nbformat": 4,
 "nbformat_minor": 5
}
