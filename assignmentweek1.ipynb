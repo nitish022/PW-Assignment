{
 "cells": [
  {
   "cell_type": "code",
   "execution_count": 5,
   "id": "5a71e91c-eeba-462a-aaf4-f14fb2983841",
   "metadata": {},
   "outputs": [
    {
     "name": "stdout",
     "output_type": "stream",
     "text": [
      "<class 'str'>\n",
      "<class 'list'>\n",
      "<class 'float'>\n",
      "<class 'tuple'>\n"
     ]
    }
   ],
   "source": [
    "#Q1. Create one variable containing following type of data:\n",
    "#(i) string\n",
    "#(ii) list\n",
    "#(iii) float\n",
    "#(iv) tuple\n",
    "\n",
    "#solution\n",
    "x=\"assignment1\"\n",
    "fruits=[\"apple\",\"orange\",\"banana\",\"kiwi\"]\n",
    "y=1.232\n",
    "z=(1, 2, \"three\", \"four\",5)\n",
    "\n",
    "print(type(x))\n",
    "print(type(fruits))\n",
    "print(type(y))\n",
    "print(type(z))"
   ]
  },
  {
   "cell_type": "code",
   "execution_count": 14,
   "id": "7940c752-b3a3-4f04-8aeb-672d8ba758c5",
   "metadata": {},
   "outputs": [
    {
     "name": "stdout",
     "output_type": "stream",
     "text": [
      "<class 'str'>\n",
      "<class 'str'>\n",
      "<class 'list'>\n",
      "<class 'float'>\n"
     ]
    }
   ],
   "source": [
    "#Q2. Given are some following variables containing data:\n",
    "#(i) var1 = ‘ ‘\n",
    "#(ii) var2 = ‘[ DS , ML , Python]’\n",
    "#(iii) var3 = [ ‘DS’ , ’ML’ , ‘Python’ ]\n",
    "#(iv) var4 = 1.\n",
    "\n",
    "#Solution\n",
    "var1=''\n",
    "var2='[DS, ML,Python]'\n",
    "var3=['DS','ML','Python']\n",
    "var4=1.\n",
    "print(type(var1))\n",
    "print(type(var2))\n",
    "print(type(var3))\n",
    "print(type(var4))"
   ]
  },
  {
   "cell_type": "code",
   "execution_count": 23,
   "id": "306c6d89-459f-4f7b-a8a1-b6581f413eeb",
   "metadata": {},
   "outputs": [
    {
     "name": "stdout",
     "output_type": "stream",
     "text": [
      "5.0\n"
     ]
    }
   ],
   "source": [
    "#Q3. Explain the use of the following operators using an example:\n",
    "#(i) /\n",
    "#(ii) %\n",
    "#(iii) //\n",
    "#(iv) **\n",
    "\n",
    "#Solution\n",
    "#(i) /= Division\n",
    "#Eg\n",
    "x=10\n",
    "y=2\n",
    "print(x/y)\n"
   ]
  },
  {
   "cell_type": "code",
   "execution_count": 24,
   "id": "b8af7dc8-166d-4ba8-bedf-25fa332c8a67",
   "metadata": {},
   "outputs": [
    {
     "name": "stdout",
     "output_type": "stream",
     "text": [
      "1\n"
     ]
    }
   ],
   "source": [
    "#(i) %\n",
    "#solution\n",
    "# %= Modulus\n",
    "#Eg\n",
    "x=5\n",
    "y=2\n",
    "print(x%y)\n"
   ]
  },
  {
   "cell_type": "code",
   "execution_count": 25,
   "id": "3f0967f6-e825-4c78-b43c-98437e3d85f9",
   "metadata": {},
   "outputs": [
    {
     "name": "stdout",
     "output_type": "stream",
     "text": [
      "2\n"
     ]
    }
   ],
   "source": [
    "#(iii) //\n",
    "#solution\n",
    "# //=floor division\n",
    "# Eg\n",
    "x=15\n",
    "y=7\n",
    "print(x//y)"
   ]
  },
  {
   "cell_type": "code",
   "execution_count": 26,
   "id": "94c0c9e2-7b36-453a-ad30-7b6906e40789",
   "metadata": {},
   "outputs": [
    {
     "name": "stdout",
     "output_type": "stream",
     "text": [
      "16\n"
     ]
    }
   ],
   "source": [
    "# (iv) **\n",
    "# solution\n",
    "# **= Exponentiation\n",
    "# Eg\n",
    "x=2\n",
    "y=4\n",
    "print(x**y)"
   ]
  },
  {
   "cell_type": "code",
   "execution_count": 29,
   "id": "e6f4b740-0fed-4389-9048-bb6dce967198",
   "metadata": {},
   "outputs": [
    {
     "name": "stdout",
     "output_type": "stream",
     "text": [
      "1 <class 'int'>\n",
      "1.0 <class 'float'>\n",
      "two <class 'str'>\n",
      "True <class 'bool'>\n",
      "('apple', 'orange') <class 'tuple'>\n",
      "{1, 2, 3} <class 'set'>\n",
      "[9, 8] <class 'list'>\n",
      "{'five': 5} <class 'dict'>\n",
      "None <class 'NoneType'>\n",
      "3 <class 'int'>\n"
     ]
    }
   ],
   "source": [
    "# Q4. Create a list of length 10 of your choice containing multiple types of data. Using for loop print the\n",
    "#element and its data type.\n",
    "# Solution\n",
    "list=[1,1.0,\"two\",True,('apple','orange'),{1,2,3},[9,8],{'five':5},None,3]\n",
    "\n",
    "for item in list:\n",
    "    print(item,type(item))\n",
    "\n"
   ]
  },
  {
   "cell_type": "code",
   "execution_count": 42,
   "id": "9f0ba5b9-c9de-4894-8010-f0b8aaa55f89",
   "metadata": {},
   "outputs": [
    {
     "name": "stdout",
     "output_type": "stream",
     "text": [
      "number of times A is divisible by B: 4\n"
     ]
    }
   ],
   "source": [
    "#Q5. Using a while loop, verify if the number A is purely divisible by number B and if so then how many\n",
    "#times it can be divisible.\n",
    "#solution\n",
    "\n",
    "A= 16\n",
    "B= 2\n",
    "count=0\n",
    "while A%B==0:\n",
    "    A=A//B\n",
    "    count+=1\n",
    "    \n",
    "    \n",
    "print('number of times A is divisible by B:',count) "
   ]
  },
  {
   "cell_type": "code",
   "execution_count": 45,
   "id": "2b2ad035-0123-486e-b9a7-f85da25c6af2",
   "metadata": {},
   "outputs": [
    {
     "name": "stdout",
     "output_type": "stream",
     "text": [
      "num is not divisible by 3\n",
      "num is not divisible by 3\n",
      "num is divisible by 3\n",
      "num is not divisible by 3\n",
      "num is not divisible by 3\n",
      "num is divisible by 3\n",
      "num is not divisible by 3\n",
      "num is not divisible by 3\n",
      "num is divisible by 3\n",
      "num is not divisible by 3\n",
      "num is not divisible by 3\n",
      "num is divisible by 3\n",
      "num is not divisible by 3\n",
      "num is not divisible by 3\n",
      "num is divisible by 3\n",
      "num is not divisible by 3\n",
      "num is not divisible by 3\n",
      "num is divisible by 3\n",
      "num is not divisible by 3\n",
      "num is not divisible by 3\n",
      "num is divisible by 3\n",
      "num is not divisible by 3\n",
      "num is not divisible by 3\n",
      "num is divisible by 3\n",
      "num is not divisible by 3\n"
     ]
    }
   ],
   "source": [
    "#Q6. Create a list containing 25 int type data. Using for loop and if-else condition print if the element is\n",
    "#divisible by 3 or not.\n",
    "\n",
    "#solution\n",
    "\n",
    "list=[1,2,3,4,5,6,7,8,9,10,11,12,13,14,15,16,17,18,19,20,21,22,23,24,25]\n",
    "\n",
    "for num in list:\n",
    "    if num % 3 ==0:\n",
    "        print('num is divisible by 3')\n",
    "    else:\n",
    "        print('num is not divisible by 3')\n",
    " \n",
    "\n",
    "\n",
    "    "
   ]
  },
  {
   "cell_type": "code",
   "execution_count": 48,
   "id": "dd61aa05-f9b8-4fed-a776-8f22b24f2c6c",
   "metadata": {},
   "outputs": [
    {
     "name": "stdout",
     "output_type": "stream",
     "text": [
      "['apple', 'pineapple', 'banana', 'kiwi']\n"
     ]
    }
   ],
   "source": [
    "#Q7. What do you understand about mutable and immutable data types? Give examples for both showing\n",
    "#this property.\n",
    "\n",
    "#solution\n",
    "#Mutable data types:\n",
    "\n",
    "# Mutable objects can be modified after they are created.\n",
    "# Changes made to a mutable object persist, and no new object is created.\n",
    "# Examples  include lists, dictionaries, and sets\n",
    "\n",
    "fruits=['apple','orange','banana','kiwi']\n",
    "\n",
    "fruits[1]='pineapple'\n",
    "print(fruits)"
   ]
  },
  {
   "cell_type": "code",
   "execution_count": 50,
   "id": "6d240b73-4693-4494-92f1-eadf432cd602",
   "metadata": {},
   "outputs": [
    {
     "name": "stdout",
     "output_type": "stream",
     "text": [
      "2\n",
      "5\n"
     ]
    }
   ],
   "source": [
    "#Immutable data types:\n",
    "\n",
    "#Immutable objects cannot be changed after they are created.\n",
    "#When an immutable object is modified, a new object is created with the modified value.\n",
    "#Examples include integers, floats, booleans, strings, and tuples.\n",
    "\n",
    "x=2\n",
    "print(x) # before changeing value of x\n",
    "x=5\n",
    "print(x) # after canging value of z\n"
   ]
  },
  {
   "cell_type": "code",
   "execution_count": null,
   "id": "2b9edbe9-2518-43de-a00f-3fa996700ba3",
   "metadata": {},
   "outputs": [],
   "source": []
  }
 ],
 "metadata": {
  "kernelspec": {
   "display_name": "Python 3 (ipykernel)",
   "language": "python",
   "name": "python3"
  },
  "language_info": {
   "codemirror_mode": {
    "name": "ipython",
    "version": 3
   },
   "file_extension": ".py",
   "mimetype": "text/x-python",
   "name": "python",
   "nbconvert_exporter": "python",
   "pygments_lexer": "ipython3",
   "version": "3.10.8"
  }
 },
 "nbformat": 4,
 "nbformat_minor": 5
}
